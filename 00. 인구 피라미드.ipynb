{
 "cells": [
  {
   "cell_type": "markdown",
   "id": "37408ff9",
   "metadata": {},
   "source": [
    "# 1. 인구 피라미드"
   ]
  },
  {
   "cell_type": "code",
   "execution_count": 1,
   "id": "438792f5",
   "metadata": {},
   "outputs": [],
   "source": [
    "import pandas as pd"
   ]
  },
  {
   "cell_type": "markdown",
   "id": "836f6253",
   "metadata": {},
   "source": [
    "## 1> 남자"
   ]
  },
  {
   "cell_type": "code",
   "execution_count": 2,
   "id": "85d587b1",
   "metadata": {
    "scrolled": true
   },
   "outputs": [
    {
     "name": "stderr",
     "output_type": "stream",
     "text": [
      "C:\\Users\\parkj\\anaconda3\\Lib\\site-packages\\openpyxl\\styles\\stylesheet.py:226: UserWarning: Workbook contains no default style, apply openpyxl's default\n",
      "  warn(\"Workbook contains no default style, apply openpyxl's default\")\n"
     ]
    },
    {
     "data": {
      "text/html": [
       "<div>\n",
       "<style scoped>\n",
       "    .dataframe tbody tr th:only-of-type {\n",
       "        vertical-align: middle;\n",
       "    }\n",
       "\n",
       "    .dataframe tbody tr th {\n",
       "        vertical-align: top;\n",
       "    }\n",
       "\n",
       "    .dataframe thead th {\n",
       "        text-align: right;\n",
       "    }\n",
       "</style>\n",
       "<table border=\"1\" class=\"dataframe\">\n",
       "  <thead>\n",
       "    <tr style=\"text-align: right;\">\n",
       "      <th></th>\n",
       "      <th>0~4세</th>\n",
       "      <th>5~9세</th>\n",
       "      <th>10~14세</th>\n",
       "      <th>15~19세</th>\n",
       "      <th>20~24세</th>\n",
       "      <th>25~29세</th>\n",
       "      <th>30~34세</th>\n",
       "      <th>35~39세</th>\n",
       "      <th>40~44세</th>\n",
       "      <th>45~49세</th>\n",
       "      <th>...</th>\n",
       "      <th>55~59세</th>\n",
       "      <th>60~64세</th>\n",
       "      <th>65~69세</th>\n",
       "      <th>70~74세</th>\n",
       "      <th>75~79세</th>\n",
       "      <th>80~84세</th>\n",
       "      <th>85~89세</th>\n",
       "      <th>90~94세</th>\n",
       "      <th>95~99세</th>\n",
       "      <th>100세 이상</th>\n",
       "    </tr>\n",
       "    <tr>\n",
       "      <th>행정기관</th>\n",
       "      <th></th>\n",
       "      <th></th>\n",
       "      <th></th>\n",
       "      <th></th>\n",
       "      <th></th>\n",
       "      <th></th>\n",
       "      <th></th>\n",
       "      <th></th>\n",
       "      <th></th>\n",
       "      <th></th>\n",
       "      <th></th>\n",
       "      <th></th>\n",
       "      <th></th>\n",
       "      <th></th>\n",
       "      <th></th>\n",
       "      <th></th>\n",
       "      <th></th>\n",
       "      <th></th>\n",
       "      <th></th>\n",
       "      <th></th>\n",
       "      <th></th>\n",
       "    </tr>\n",
       "  </thead>\n",
       "  <tbody>\n",
       "    <tr>\n",
       "      <th>전국</th>\n",
       "      <td>1,198,629</td>\n",
       "      <td>1,218,866</td>\n",
       "      <td>1,635,253</td>\n",
       "      <td>1,882,958</td>\n",
       "      <td>1,688,523</td>\n",
       "      <td>1,811,906</td>\n",
       "      <td>2,053,846</td>\n",
       "      <td>2,157,764</td>\n",
       "      <td>2,341,732</td>\n",
       "      <td>2,176,857</td>\n",
       "      <td>...</td>\n",
       "      <td>1,598,548</td>\n",
       "      <td>1,133,757</td>\n",
       "      <td>886,144</td>\n",
       "      <td>713,163</td>\n",
       "      <td>433,883</td>\n",
       "      <td>192,497</td>\n",
       "      <td>77,030</td>\n",
       "      <td>22,523</td>\n",
       "      <td>4,696</td>\n",
       "      <td>2,652</td>\n",
       "    </tr>\n",
       "    <tr>\n",
       "      <th>서울특별시</th>\n",
       "      <td>217,099</td>\n",
       "      <td>213,296</td>\n",
       "      <td>284,211</td>\n",
       "      <td>346,341</td>\n",
       "      <td>337,208</td>\n",
       "      <td>425,224</td>\n",
       "      <td>473,659</td>\n",
       "      <td>454,415</td>\n",
       "      <td>461,689</td>\n",
       "      <td>413,722</td>\n",
       "      <td>...</td>\n",
       "      <td>332,974</td>\n",
       "      <td>239,941</td>\n",
       "      <td>190,828</td>\n",
       "      <td>137,206</td>\n",
       "      <td>73,276</td>\n",
       "      <td>31,869</td>\n",
       "      <td>13,210</td>\n",
       "      <td>4,590</td>\n",
       "      <td>1,182</td>\n",
       "      <td>894</td>\n",
       "    </tr>\n",
       "    <tr>\n",
       "      <th>부산광역시</th>\n",
       "      <td>67,561</td>\n",
       "      <td>69,275</td>\n",
       "      <td>100,418</td>\n",
       "      <td>129,556</td>\n",
       "      <td>123,139</td>\n",
       "      <td>127,645</td>\n",
       "      <td>138,435</td>\n",
       "      <td>134,969</td>\n",
       "      <td>148,270</td>\n",
       "      <td>145,936</td>\n",
       "      <td>...</td>\n",
       "      <td>136,690</td>\n",
       "      <td>100,024</td>\n",
       "      <td>73,809</td>\n",
       "      <td>54,415</td>\n",
       "      <td>29,464</td>\n",
       "      <td>12,090</td>\n",
       "      <td>4,289</td>\n",
       "      <td>1,107</td>\n",
       "      <td>246</td>\n",
       "      <td>228</td>\n",
       "    </tr>\n",
       "  </tbody>\n",
       "</table>\n",
       "<p>3 rows × 21 columns</p>\n",
       "</div>"
      ],
      "text/plain": [
       "              0~4세       5~9세     10~14세     15~19세     20~24세     25~29세  \\\n",
       "행정기관                                                                        \n",
       "전국       1,198,629  1,218,866  1,635,253  1,882,958  1,688,523  1,811,906   \n",
       "서울특별시      217,099    213,296    284,211    346,341    337,208    425,224   \n",
       "부산광역시       67,561     69,275    100,418    129,556    123,139    127,645   \n",
       "\n",
       "            30~34세     35~39세     40~44세     45~49세  ...     55~59세  \\\n",
       "행정기관                                                 ...              \n",
       "전국       2,053,846  2,157,764  2,341,732  2,176,857  ...  1,598,548   \n",
       "서울특별시      473,659    454,415    461,689    413,722  ...    332,974   \n",
       "부산광역시      138,435    134,969    148,270    145,936  ...    136,690   \n",
       "\n",
       "            60~64세   65~69세   70~74세   75~79세   80~84세  85~89세  90~94세 95~99세  \\\n",
       "행정기관                                                                            \n",
       "전국       1,133,757  886,144  713,163  433,883  192,497  77,030  22,523  4,696   \n",
       "서울특별시      239,941  190,828  137,206   73,276   31,869  13,210   4,590  1,182   \n",
       "부산광역시      100,024   73,809   54,415   29,464   12,090   4,289   1,107    246   \n",
       "\n",
       "        100세 이상  \n",
       "행정기관             \n",
       "전국        2,652  \n",
       "서울특별시       894  \n",
       "부산광역시       228  \n",
       "\n",
       "[3 rows x 21 columns]"
      ]
     },
     "execution_count": 2,
     "metadata": {},
     "output_type": "execute_result"
    }
   ],
   "source": [
    "file_name = '201112_201112_연령별인구현황_월간.xlsx'\n",
    "df_m = pd.read_excel(file_name, skiprows=3, index_col='행정기관', usecols='B, E:Y')\n",
    "df_m.head(3)"
   ]
  },
  {
   "cell_type": "code",
   "execution_count": 3,
   "id": "228f736d",
   "metadata": {},
   "outputs": [
    {
     "data": {
      "text/plain": [
       "0~4세       1198629\n",
       "5~9세       1218866\n",
       "10~14세     1635253\n",
       "15~19세     1882958\n",
       "20~24세     1688523\n",
       "25~29세     1811906\n",
       "30~34세     2053846\n",
       "35~39세     2157764\n",
       "40~44세     2341732\n",
       "45~49세     2176857\n",
       "50~54세     2175707\n",
       "55~59세     1598548\n",
       "60~64세     1133757\n",
       "65~69세      886144\n",
       "70~74세      713163\n",
       "75~79세      433883\n",
       "80~84세      192497\n",
       "85~89세       77030\n",
       "90~94세       22523\n",
       "95~99세        4696\n",
       "100세 이상       2652\n",
       "Name: 전국  , dtype: object"
      ]
     },
     "execution_count": 3,
     "metadata": {},
     "output_type": "execute_result"
    }
   ],
   "source": [
    "df_m.iloc[0] = df_m.iloc[0].str.replace(',', '').astype(int) # , 없애고 int 로 변환\n",
    "df_m.iloc[0]"
   ]
  },
  {
   "cell_type": "markdown",
   "id": "f7d4bf73",
   "metadata": {},
   "source": [
    "## 2> 여자"
   ]
  },
  {
   "cell_type": "code",
   "execution_count": 4,
   "id": "b6c24331",
   "metadata": {},
   "outputs": [
    {
     "name": "stderr",
     "output_type": "stream",
     "text": [
      "C:\\Users\\parkj\\anaconda3\\Lib\\site-packages\\openpyxl\\styles\\stylesheet.py:226: UserWarning: Workbook contains no default style, apply openpyxl's default\n",
      "  warn(\"Workbook contains no default style, apply openpyxl's default\")\n"
     ]
    },
    {
     "data": {
      "text/html": [
       "<div>\n",
       "<style scoped>\n",
       "    .dataframe tbody tr th:only-of-type {\n",
       "        vertical-align: middle;\n",
       "    }\n",
       "\n",
       "    .dataframe tbody tr th {\n",
       "        vertical-align: top;\n",
       "    }\n",
       "\n",
       "    .dataframe thead th {\n",
       "        text-align: right;\n",
       "    }\n",
       "</style>\n",
       "<table border=\"1\" class=\"dataframe\">\n",
       "  <thead>\n",
       "    <tr style=\"text-align: right;\">\n",
       "      <th></th>\n",
       "      <th>0~4세.1</th>\n",
       "      <th>5~9세.1</th>\n",
       "      <th>10~14세.1</th>\n",
       "      <th>15~19세.1</th>\n",
       "      <th>20~24세.1</th>\n",
       "      <th>25~29세.1</th>\n",
       "      <th>30~34세.1</th>\n",
       "      <th>35~39세.1</th>\n",
       "      <th>40~44세.1</th>\n",
       "      <th>45~49세.1</th>\n",
       "      <th>...</th>\n",
       "      <th>55~59세.1</th>\n",
       "      <th>60~64세.1</th>\n",
       "      <th>65~69세.1</th>\n",
       "      <th>70~74세.1</th>\n",
       "      <th>75~79세.1</th>\n",
       "      <th>80~84세.1</th>\n",
       "      <th>85~89세.1</th>\n",
       "      <th>90~94세.1</th>\n",
       "      <th>95~99세.1</th>\n",
       "      <th>100세 이상.1</th>\n",
       "    </tr>\n",
       "    <tr>\n",
       "      <th>행정기관</th>\n",
       "      <th></th>\n",
       "      <th></th>\n",
       "      <th></th>\n",
       "      <th></th>\n",
       "      <th></th>\n",
       "      <th></th>\n",
       "      <th></th>\n",
       "      <th></th>\n",
       "      <th></th>\n",
       "      <th></th>\n",
       "      <th></th>\n",
       "      <th></th>\n",
       "      <th></th>\n",
       "      <th></th>\n",
       "      <th></th>\n",
       "      <th></th>\n",
       "      <th></th>\n",
       "      <th></th>\n",
       "      <th></th>\n",
       "      <th></th>\n",
       "      <th></th>\n",
       "    </tr>\n",
       "  </thead>\n",
       "  <tbody>\n",
       "    <tr>\n",
       "      <th>전국</th>\n",
       "      <td>1,129,806</td>\n",
       "      <td>1,128,548</td>\n",
       "      <td>1,499,278</td>\n",
       "      <td>1,663,636</td>\n",
       "      <td>1,523,792</td>\n",
       "      <td>1,703,195</td>\n",
       "      <td>1,970,608</td>\n",
       "      <td>2,072,568</td>\n",
       "      <td>2,275,390</td>\n",
       "      <td>2,052,704</td>\n",
       "      <td>...</td>\n",
       "      <td>1,615,965</td>\n",
       "      <td>1,185,550</td>\n",
       "      <td>1,011,421</td>\n",
       "      <td>927,668</td>\n",
       "      <td>696,462</td>\n",
       "      <td>425,984</td>\n",
       "      <td>206,395</td>\n",
       "      <td>72,491</td>\n",
       "      <td>18,981</td>\n",
       "      <td>8,982</td>\n",
       "    </tr>\n",
       "    <tr>\n",
       "      <th>서울특별시</th>\n",
       "      <td>206,060</td>\n",
       "      <td>200,193</td>\n",
       "      <td>262,310</td>\n",
       "      <td>310,655</td>\n",
       "      <td>333,221</td>\n",
       "      <td>434,166</td>\n",
       "      <td>465,605</td>\n",
       "      <td>438,263</td>\n",
       "      <td>460,050</td>\n",
       "      <td>409,129</td>\n",
       "      <td>...</td>\n",
       "      <td>359,313</td>\n",
       "      <td>258,378</td>\n",
       "      <td>205,191</td>\n",
       "      <td>158,189</td>\n",
       "      <td>107,363</td>\n",
       "      <td>67,032</td>\n",
       "      <td>34,398</td>\n",
       "      <td>12,901</td>\n",
       "      <td>3,929</td>\n",
       "      <td>2,692</td>\n",
       "    </tr>\n",
       "    <tr>\n",
       "      <th>부산광역시</th>\n",
       "      <td>64,091</td>\n",
       "      <td>64,395</td>\n",
       "      <td>89,822</td>\n",
       "      <td>109,704</td>\n",
       "      <td>109,926</td>\n",
       "      <td>119,872</td>\n",
       "      <td>132,335</td>\n",
       "      <td>130,836</td>\n",
       "      <td>152,337</td>\n",
       "      <td>148,810</td>\n",
       "      <td>...</td>\n",
       "      <td>142,537</td>\n",
       "      <td>105,268</td>\n",
       "      <td>79,853</td>\n",
       "      <td>68,053</td>\n",
       "      <td>46,756</td>\n",
       "      <td>28,568</td>\n",
       "      <td>13,063</td>\n",
       "      <td>4,090</td>\n",
       "      <td>1,162</td>\n",
       "      <td>850</td>\n",
       "    </tr>\n",
       "  </tbody>\n",
       "</table>\n",
       "<p>3 rows × 21 columns</p>\n",
       "</div>"
      ],
      "text/plain": [
       "            0~4세.1     5~9세.1   10~14세.1   15~19세.1   20~24세.1   25~29세.1  \\\n",
       "행정기관                                                                        \n",
       "전국       1,129,806  1,128,548  1,499,278  1,663,636  1,523,792  1,703,195   \n",
       "서울특별시      206,060    200,193    262,310    310,655    333,221    434,166   \n",
       "부산광역시       64,091     64,395     89,822    109,704    109,926    119,872   \n",
       "\n",
       "          30~34세.1   35~39세.1   40~44세.1   45~49세.1  ...   55~59세.1  \\\n",
       "행정기관                                                 ...              \n",
       "전국       1,970,608  2,072,568  2,275,390  2,052,704  ...  1,615,965   \n",
       "서울특별시      465,605    438,263    460,050    409,129  ...    359,313   \n",
       "부산광역시      132,335    130,836    152,337    148,810  ...    142,537   \n",
       "\n",
       "          60~64세.1   65~69세.1 70~74세.1 75~79세.1 80~84세.1 85~89세.1 90~94세.1  \\\n",
       "행정기관                                                                         \n",
       "전국       1,185,550  1,011,421  927,668  696,462  425,984  206,395   72,491   \n",
       "서울특별시      258,378    205,191  158,189  107,363   67,032   34,398   12,901   \n",
       "부산광역시      105,268     79,853   68,053   46,756   28,568   13,063    4,090   \n",
       "\n",
       "        95~99세.1 100세 이상.1  \n",
       "행정기관                        \n",
       "전국        18,981     8,982  \n",
       "서울특별시      3,929     2,692  \n",
       "부산광역시      1,162       850  \n",
       "\n",
       "[3 rows x 21 columns]"
      ]
     },
     "execution_count": 4,
     "metadata": {},
     "output_type": "execute_result"
    }
   ],
   "source": [
    "df_w = pd.read_excel(file_name, skiprows=3, index_col='행정기관', usecols='B, AB:AV')\n",
    "df_w.head(3)\n"
   ]
  },
  {
   "cell_type": "code",
   "execution_count": 5,
   "id": "420744d9",
   "metadata": {},
   "outputs": [
    {
     "data": {
      "text/plain": [
       "Index(['0~4세', '5~9세', '10~14세', '15~19세', '20~24세', '25~29세', '30~34세',\n",
       "       '35~39세', '40~44세', '45~49세', '50~54세', '55~59세', '60~64세', '65~69세',\n",
       "       '70~74세', '75~79세', '80~84세', '85~89세', '90~94세', '95~99세', '100세 이상'],\n",
       "      dtype='object')"
      ]
     },
     "execution_count": 5,
     "metadata": {},
     "output_type": "execute_result"
    }
   ],
   "source": [
    "df_m.columns"
   ]
  },
  {
   "cell_type": "code",
   "execution_count": 6,
   "id": "ed1aeb82",
   "metadata": {},
   "outputs": [],
   "source": [
    "df_w.columns = df_m.columns # 컬럼명 통일"
   ]
  },
  {
   "cell_type": "code",
   "execution_count": 7,
   "id": "4550e6f6",
   "metadata": {},
   "outputs": [
    {
     "data": {
      "text/plain": [
       "Index(['0~4세', '5~9세', '10~14세', '15~19세', '20~24세', '25~29세', '30~34세',\n",
       "       '35~39세', '40~44세', '45~49세', '50~54세', '55~59세', '60~64세', '65~69세',\n",
       "       '70~74세', '75~79세', '80~84세', '85~89세', '90~94세', '95~99세', '100세 이상'],\n",
       "      dtype='object')"
      ]
     },
     "execution_count": 7,
     "metadata": {},
     "output_type": "execute_result"
    }
   ],
   "source": [
    "df_w.columns"
   ]
  },
  {
   "cell_type": "code",
   "execution_count": 8,
   "id": "eece72b2",
   "metadata": {},
   "outputs": [
    {
     "data": {
      "text/plain": [
       "0~4세       1129806\n",
       "5~9세       1128548\n",
       "10~14세     1499278\n",
       "15~19세     1663636\n",
       "20~24세     1523792\n",
       "25~29세     1703195\n",
       "30~34세     1970608\n",
       "35~39세     2072568\n",
       "40~44세     2275390\n",
       "45~49세     2052704\n",
       "50~54세     2137926\n",
       "55~59세     1615965\n",
       "60~64세     1185550\n",
       "65~69세     1011421\n",
       "70~74세      927668\n",
       "75~79세      696462\n",
       "80~84세      425984\n",
       "85~89세      206395\n",
       "90~94세       72491\n",
       "95~99세       18981\n",
       "100세 이상       8982\n",
       "Name: 전국  , dtype: object"
      ]
     },
     "execution_count": 8,
     "metadata": {},
     "output_type": "execute_result"
    }
   ],
   "source": [
    "df_w.iloc[0] = df_w.iloc[0].str.replace(',', '').astype(int) # , 없애고 int 로 변환\n",
    "df_w.iloc[0]"
   ]
  },
  {
   "cell_type": "markdown",
   "id": "3ebc2fc1",
   "metadata": {},
   "source": [
    "## 데이터 시각화"
   ]
  },
  {
   "cell_type": "code",
   "execution_count": 9,
   "id": "836571bb",
   "metadata": {},
   "outputs": [],
   "source": [
    "import pandas as pd\n",
    "import matplotlib.pyplot as plt\n",
    "import matplotlib\n",
    "\n",
    "matplotlib.rcParams['font.family'] = 'Malgun Gothic'\n",
    "matplotlib.rcParams['font.size'] = 15\n",
    "matplotlib.rcParams['axes.unicode_minus'] = False"
   ]
  },
  {
   "cell_type": "code",
   "execution_count": 10,
   "id": "3ded25bf",
   "metadata": {},
   "outputs": [
    {
     "data": {
      "image/png": "[encoded data removed]",
      "text/plain": [
       "<Figure size 1000x700 with 1 Axes>"
      ]
     },
     "metadata": {},
     "output_type": "display_data"
    }
   ],
   "source": [
    "plt.figure(figsize=(10, 7))\n",
    "plt.barh(df_m.columns, -df_m.iloc[0] // 1000) # 단위 : 천 명 (- 표시를 통해 좌측에 그래프가 나온다.)\n",
    "plt.barh(df_w.columns, df_w.iloc[0] // 1000) # 단위 : 천 명\n",
    "plt.title('2011년 12월 인구 피라미드')\n",
    "plt.savefig('2011년_12월_인구_피라미드.png', dpi=100)\n",
    "plt.show()"
   ]
  }
 ],
 "metadata": {
  "kernelspec": {
   "display_name": "Python 3 (ipykernel)",
   "language": "python",
   "name": "python3"
  },
  "language_info": {
   "codemirror_mode": {
    "name": "ipython",
    "version": 3
   },
   "file_extension": ".py",
   "mimetype": "text/x-python",
   "name": "python",
   "nbconvert_exporter": "python",
   "pygments_lexer": "ipython3",
   "version": "3.11.5"
  }
 },
 "nbformat": 4,
 "nbformat_minor": 5
}
